{
 "cells": [
  {
   "cell_type": "code",
   "execution_count": 1,
   "id": "330b841c",
   "metadata": {},
   "outputs": [],
   "source": [
    "#Singly Linked List "
   ]
  },
  {
   "cell_type": "code",
   "execution_count": 2,
   "id": "e90cd13f",
   "metadata": {},
   "outputs": [
    {
     "name": "stdout",
     "output_type": "stream",
     "text": [
      "3\n"
     ]
    }
   ],
   "source": [
    "class SinglyNode:\n",
    "\n",
    "  def __init__(self, val, next=None):\n",
    "    self.val = val\n",
    "    self.next = next\n",
    "\n",
    "  def __str__(self):\n",
    "    return str(self.val)\n",
    "  \n",
    "Head = SinglyNode(3)\n",
    "HeadNxt2 = SinglyNode(4)\n",
    "HeadNxt3 = SinglyNode(6)\n",
    "HeadNxt4 = SinglyNode(7)\n",
    "\n",
    "Head.next = HeadNxt2\n",
    "HeadNxt2.next = HeadNxt3\n",
    "HeadNxt3.next = HeadNxt4\n",
    "\n",
    "print(Head)\n",
    "  "
   ]
  },
  {
   "cell_type": "code",
   "execution_count": null,
   "id": "7f26277e",
   "metadata": {},
   "outputs": [
    {
     "name": "stdout",
     "output_type": "stream",
     "text": [
      "3\n",
      "4\n",
      "6\n",
      "7\n"
     ]
    }
   ],
   "source": [
    "#Traversing the list - O(n)\n",
    "\n",
    "curr = Head\n",
    "\n",
    "while curr:\n",
    "  print(curr)\n",
    "  curr = curr.next\n"
   ]
  },
  {
   "cell_type": "code",
   "execution_count": null,
   "id": "9392beb4",
   "metadata": {},
   "outputs": [
    {
     "name": "stdout",
     "output_type": "stream",
     "text": [
      "3 -> 4 -> 6 -> 7\n"
     ]
    }
   ],
   "source": [
    "#Display the list - O(n)\n",
    "\n",
    "def display(head):\n",
    "  curr = head\n",
    "  element = []\n",
    "\n",
    "  while curr:\n",
    "    element.append(str(curr.val))\n",
    "    curr = curr.next\n",
    "\n",
    "  print(' -> '.join(element))\n",
    "\n",
    "display(Head)"
   ]
  },
  {
   "cell_type": "code",
   "execution_count": null,
   "id": "0cbaed7b",
   "metadata": {},
   "outputs": [
    {
     "name": "stdout",
     "output_type": "stream",
     "text": [
      "False\n"
     ]
    }
   ],
   "source": [
    "#Search for a node - O(n)\n",
    "\n",
    "def Searching(searchVal, Head):\n",
    "  curr = Head\n",
    "  while curr:\n",
    "    if searchVal == curr.val:\n",
    "      return True\n",
    "    curr = curr.next\n",
    "  return False\n",
    "searchVall = Searching(8, Head)\n",
    "print(searchVall)\n"
   ]
  },
  {
   "cell_type": "code",
   "execution_count": 31,
   "id": "4a7a4b06",
   "metadata": {},
   "outputs": [],
   "source": [
    "#Doubly Linked List\n",
    "\n",
    "class DoubleLinked:\n",
    "  def __init__(self, val, next=None, prev=None):\n",
    "    self.val = val\n",
    "    self.next = next\n",
    "    self.prev = prev\n",
    "\n",
    "  def __str__(self):\n",
    "    return str(self.val)\n",
    "\n",
    "Head = DoubleLinked(5)\n",
    "Ht1 = DoubleLinked(6)\n",
    "Tail = DoubleLinked(7)"
   ]
  },
  {
   "cell_type": "code",
   "execution_count": null,
   "id": "971a1a50",
   "metadata": {},
   "outputs": [
    {
     "name": "stdout",
     "output_type": "stream",
     "text": [
      "5 <-> 6 <-> 7\n"
     ]
    }
   ],
   "source": [
    "Head.next = Ht1\n",
    "Ht1.next = Tail\n",
    "Ht1.prev = Head\n",
    "Tail.prev = Ht1\n",
    "\n",
    "def display(head):\n",
    "  curr = head\n",
    "  element = []\n",
    "  while curr:\n",
    "    element.append(str(curr.val))\n",
    "    curr = curr.next\n",
    "  print(' <-> '.join(element))\n",
    "\n",
    "display(Head)"
   ]
  },
  {
   "cell_type": "code",
   "execution_count": null,
   "id": "898cf0f9",
   "metadata": {},
   "outputs": [
    {
     "name": "stdout",
     "output_type": "stream",
     "text": [
      "7 <-> 6 <-> 5\n"
     ]
    }
   ],
   "source": [
    "#display doubly linked list (Reverse) - O(n)\n",
    "def displayRev(Tail):\n",
    "  curr = Tail\n",
    "  element = []\n",
    "  while curr:\n",
    "    element.append(str(curr.val))\n",
    "    curr = curr.prev\n",
    "  print(' <-> '.join(element))\n",
    "\n",
    "displayRev(Tail)"
   ]
  },
  {
   "cell_type": "code",
   "execution_count": null,
   "id": "9c54e487",
   "metadata": {},
   "outputs": [],
   "source": [
    "#Inserting an object at the end - O(1)\n",
    "TailE = None\n",
    "def InsertEnd(head, tail, val):\n",
    "  NextNode = DoubleLinked(val, prev=tail)\n",
    "  tail.next = NextNode\n",
    "  return head, NextNode\n",
    "\n",
    "Head, TailE = InsertEnd(Head, Tail, 8)\n",
    "Head, TailF = InsertEnd(Head, TailE, 10)"
   ]
  },
  {
   "cell_type": "code",
   "execution_count": 70,
   "id": "38db263b",
   "metadata": {},
   "outputs": [
    {
     "name": "stdout",
     "output_type": "stream",
     "text": [
      "5 <-> 6 <-> 7 <-> 8 <-> 10\n"
     ]
    }
   ],
   "source": [
    "display(Head)"
   ]
  },
  {
   "cell_type": "code",
   "execution_count": null,
   "id": "831ed02b",
   "metadata": {},
   "outputs": [],
   "source": []
  }
 ],
 "metadata": {
  "kernelspec": {
   "display_name": "Python 3 (ipykernel)",
   "language": "python",
   "name": "python3"
  },
  "language_info": {
   "codemirror_mode": {
    "name": "ipython",
    "version": 3
   },
   "file_extension": ".py",
   "mimetype": "text/x-python",
   "name": "python",
   "nbconvert_exporter": "python",
   "pygments_lexer": "ipython3",
   "version": "3.13.5"
  }
 },
 "nbformat": 4,
 "nbformat_minor": 5
}
