{
 "cells": [
  {
   "cell_type": "code",
   "execution_count": null,
   "id": "e90cd13f",
   "metadata": {},
   "outputs": [],
   "source": [
    "#Singly Linked\n",
    "\n",
    "class SinglyNode:\n",
    "\n",
    "  def __init__(self, val, next=None):\n",
    "    self.val = val\n",
    "    self.next = next\n",
    "\n",
    "  def __str__(self):\n",
    "    return str(self.val)\n",
    "  \n",
    "Head = SinglyNode(3)\n",
    "HeadNxt2 = SinglyNode(4)\n",
    "HeadNxt3 = SinglyNode(6)\n",
    "HeadNxt4 = SinglyNode(7)\n",
    "\n",
    "Head.next = HeadNxt2\n",
    "HeadNxt2.next = HeadNxt3\n",
    "HeadNxt3.next = HeadNxt4\n",
    "\n",
    "print(Head)\n",
    "  "
   ]
  },
  {
   "cell_type": "code",
   "execution_count": null,
   "id": "7f26277e",
   "metadata": {},
   "outputs": [],
   "source": [
    "#Traversing the list - O(n)\n",
    "\n",
    "curr = Head\n",
    "\n",
    "while curr:\n",
    "  print(curr)\n",
    "  curr = curr.next\n"
   ]
  },
  {
   "cell_type": "code",
   "execution_count": null,
   "id": "9392beb4",
   "metadata": {},
   "outputs": [],
   "source": [
    "#Display the Singly linked list - O(n)\n",
    "\n",
    "def display(head):\n",
    "  curr = head\n",
    "  element = []\n",
    "\n",
    "  while curr:\n",
    "    element.append(str(curr.val))\n",
    "    curr = curr.next\n",
    "\n",
    "  print(' -> '.join(element))"
   ]
  },
  {
   "cell_type": "code",
   "execution_count": null,
   "id": "0cbaed7b",
   "metadata": {},
   "outputs": [],
   "source": [
    "#Search for a node - O(n)\n",
    "\n",
    "def Searching(searchVal, Head):\n",
    "  curr = Head\n",
    "  while curr:\n",
    "    if searchVal == curr.val:\n",
    "      return True\n",
    "    curr = curr.next\n",
    "  return False\n",
    "Searching(8, Head)\n"
   ]
  },
  {
   "cell_type": "code",
   "execution_count": 31,
   "id": "4a7a4b06",
   "metadata": {},
   "outputs": [],
   "source": [
    "#Doubly Linked List\n",
    "\n",
    "class DoubleLinked:\n",
    "  def __init__(self, val, next=None, prev=None):\n",
    "    self.val = val\n",
    "    self.next = next\n",
    "    self.prev = prev\n",
    "\n",
    "  def __str__(self):\n",
    "    return str(self.val)\n",
    "\n",
    "Head = DoubleLinked(5)\n",
    "Ht1 = DoubleLinked(6)\n",
    "Tail = DoubleLinked(7)"
   ]
  },
  {
   "cell_type": "code",
   "execution_count": null,
   "id": "971a1a50",
   "metadata": {},
   "outputs": [],
   "source": [
    "Head.next = Ht1\n",
    "Ht1.prev = Head\n",
    "Ht1.next = Tail\n",
    "Tail.prev = Ht1\n",
    "\n",
    "#Display Doubly Linked List\n",
    "def display(head):\n",
    "  curr = head\n",
    "  element = []\n",
    "  while curr:\n",
    "    element.append(str(curr.val))\n",
    "    curr = curr.next\n",
    "  print(' <-> '.join(element))"
   ]
  },
  {
   "cell_type": "code",
   "execution_count": 71,
   "id": "898cf0f9",
   "metadata": {},
   "outputs": [],
   "source": [
    "#display doubly linked list (Reverse) - O(n)\n",
    "def displayRev(Tail):\n",
    "  curr = Tail\n",
    "  element = []\n",
    "  while curr:\n",
    "    element.append(str(curr.val))\n",
    "    curr = curr.prev\n",
    "  print(' <-> '.join(element))"
   ]
  },
  {
   "cell_type": "code",
   "execution_count": null,
   "id": "9c54e487",
   "metadata": {},
   "outputs": [],
   "source": [
    "#Inserting an object at the end - O(1)\n",
    "TailE = None\n",
    "def InsertEnd(head, tail, val):\n",
    "  NextNode = DoubleLinked(val, prev=tail)\n",
    "  tail.next = NextNode\n",
    "  return head, NextNode\n",
    "\n",
    "Head, TailE = InsertEnd(Head, Tail, 8)\n",
    "Head, TailF = InsertEnd(Head, TailE, 10)\n",
    "\n",
    "Searching(7, Head)"
   ]
  }
 ],
 "metadata": {
  "kernelspec": {
   "display_name": "Python 3 (ipykernel)",
   "language": "python",
   "name": "python3"
  },
  "language_info": {
   "codemirror_mode": {
    "name": "ipython",
    "version": 3
   },
   "file_extension": ".py",
   "mimetype": "text/x-python",
   "name": "python",
   "nbconvert_exporter": "python",
   "pygments_lexer": "ipython3",
   "version": "3.13.5"
  }
 },
 "nbformat": 4,
 "nbformat_minor": 5
}
