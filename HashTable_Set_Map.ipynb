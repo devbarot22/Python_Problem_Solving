{
 "cells": [
  {
   "cell_type": "code",
   "execution_count": 2,
   "id": "5bd8fa5a",
   "metadata": {},
   "outputs": [
    {
     "name": "stdout",
     "output_type": "stream",
     "text": [
      "set()\n"
     ]
    }
   ],
   "source": [
    "#hashsets\n",
    "\n",
    "s = set()\n",
    "print(s)"
   ]
  },
  {
   "cell_type": "code",
   "execution_count": 3,
   "id": "8494563b",
   "metadata": {},
   "outputs": [
    {
     "name": "stdout",
     "output_type": "stream",
     "text": [
      "{None, 1, 2, 3}\n"
     ]
    }
   ],
   "source": [
    "#Add item into set - O(1)\n",
    "\n",
    "s.add(1)\n",
    "s.add(2)\n",
    "s.add(3)\n",
    "s.add(None)\n",
    "print(s)"
   ]
  },
  {
   "cell_type": "code",
   "execution_count": 4,
   "id": "59747f83",
   "metadata": {},
   "outputs": [
    {
     "name": "stdout",
     "output_type": "stream",
     "text": [
      "True\n"
     ]
    }
   ],
   "source": [
    "#Lookup if item in set - O(1)\n",
    "\n",
    "if None in s:\n",
    "  print(True)\n",
    "else:\n",
    "  print(\"Jai Ho!\")"
   ]
  },
  {
   "cell_type": "code",
   "execution_count": 5,
   "id": "68611ed0",
   "metadata": {},
   "outputs": [],
   "source": [
    "#Remove value from the set\n",
    "\n",
    "s.remove(3)"
   ]
  },
  {
   "cell_type": "code",
   "execution_count": 6,
   "id": "93752f3e",
   "metadata": {},
   "outputs": [
    {
     "name": "stdout",
     "output_type": "stream",
     "text": [
      "{'a', 'c', 'b', 'e'}\n"
     ]
    }
   ],
   "source": [
    "#removing duplicate from the string.\n",
    "\n",
    "string = 'aaaaaaaaaaaaaabbbbbbbbbbbbbcccccccccceeeeeee'\n",
    "sett = set(string) #- O(S) - S is the length of the string\n",
    "string = str(sett) #- Resigning it to string\n",
    "print(string)"
   ]
  },
  {
   "cell_type": "code",
   "execution_count": 7,
   "id": "9dee0d0b",
   "metadata": {},
   "outputs": [],
   "source": [
    "#Hashmaps - Dictionaries\n",
    "\n",
    "d = {\n",
    "  \"name\": \"Greg\",\n",
    "  \"surname\": \"joe\"\n",
    "}"
   ]
  },
  {
   "cell_type": "code",
   "execution_count": 8,
   "id": "1bb85b31",
   "metadata": {},
   "outputs": [],
   "source": [
    "# Add key:val in dictionaries: O(1)\n",
    "\n",
    "d['anko'] = 5"
   ]
  },
  {
   "cell_type": "code",
   "execution_count": 9,
   "id": "1155db97",
   "metadata": {},
   "outputs": [
    {
     "name": "stdout",
     "output_type": "stream",
     "text": [
      "True\n"
     ]
    }
   ],
   "source": [
    "#Find the key in dictionaries : O(1)\n",
    "\n",
    "if \"name\" in d:\n",
    "  print(True)"
   ]
  },
  {
   "cell_type": "code",
   "execution_count": 10,
   "id": "9e2aa8a5",
   "metadata": {},
   "outputs": [
    {
     "name": "stdout",
     "output_type": "stream",
     "text": [
      "name:Greg, surname:joe, anko:5, "
     ]
    }
   ],
   "source": [
    "#Look over the key:Val pairs of the dictionary: O(n)\n",
    "\n",
    "for key, val in d.items():\n",
    "  print(key, end=\":\")\n",
    "  print(val, end=\", \")"
   ]
  },
  {
   "cell_type": "code",
   "execution_count": 11,
   "id": "b322f3a5",
   "metadata": {},
   "outputs": [
    {
     "data": {
      "text/plain": [
       "0"
      ]
     },
     "execution_count": 11,
     "metadata": {},
     "output_type": "execute_result"
    }
   ],
   "source": [
    "#Defaultdict\n",
    "\n",
    "from collections import defaultdict\n",
    "\n",
    "default = defaultdict(int)\n",
    "\n",
    "default[2]"
   ]
  },
  {
   "cell_type": "code",
   "execution_count": 13,
   "id": "7ffec721",
   "metadata": {},
   "outputs": [
    {
     "name": "stdout",
     "output_type": "stream",
     "text": [
      "Counter({\"'\": 8, ',': 3, ' ': 3, '{': 1, 'a': 1, 'c': 1, 'b': 1, 'e': 1, '}': 1})\n"
     ]
    }
   ],
   "source": [
    "#Counter\n",
    "\n",
    "from collections import Counter\n",
    "\n",
    "counter = Counter(string)\n",
    "\n",
    "print(counter)"
   ]
  },
  {
   "cell_type": "code",
   "execution_count": null,
   "id": "df9dde72",
   "metadata": {},
   "outputs": [],
   "source": []
  }
 ],
 "metadata": {
  "kernelspec": {
   "display_name": "Python 3 (ipykernel)",
   "language": "python",
   "name": "python3"
  },
  "language_info": {
   "codemirror_mode": {
    "name": "ipython",
    "version": 3
   },
   "file_extension": ".py",
   "mimetype": "text/x-python",
   "name": "python",
   "nbconvert_exporter": "python",
   "pygments_lexer": "ipython3",
   "version": "3.13.7"
  }
 },
 "nbformat": 4,
 "nbformat_minor": 5
}
