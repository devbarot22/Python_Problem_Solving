{
 "cells": [
  {
   "cell_type": "code",
   "execution_count": 28,
   "id": "8260bdbf",
   "metadata": {},
   "outputs": [
    {
     "name": "stdout",
     "output_type": "stream",
     "text": [
      "[60, 50, 10, 30]\n"
     ]
    }
   ],
   "source": [
    "#Stacks\n",
    "from collections import deque\n",
    "\n",
    "#deque for example only to use appendleft but we can do insert as well but that is slow so tried something else.\n",
    "# stk = deque()\n",
    "#let's just go with list only\n",
    "stk = []\n",
    "\n",
    "#function to add value at the start of array\n",
    "def addFirst(arr, val):\n",
    "  return arr.insert(0, val)\n",
    "\n",
    "stk.append(10)\n",
    "stk.append(30)\n",
    "addFirst(stk, 50)\n",
    "addFirst(stk, 60)\n",
    "\n",
    "\n",
    "print(stk)"
   ]
  },
  {
   "cell_type": "code",
   "execution_count": 33,
   "id": "2edc3329",
   "metadata": {},
   "outputs": [
    {
     "name": "stdout",
     "output_type": "stream",
     "text": [
      "[60]\n"
     ]
    }
   ],
   "source": [
    "#Pop from stack - O(1)\n",
    "\n",
    "stk.pop()\n",
    "\n",
    "print(stk)"
   ]
  },
  {
   "cell_type": "code",
   "execution_count": null,
   "id": "397ca456",
   "metadata": {},
   "outputs": [],
   "source": []
  },
  {
   "cell_type": "code",
   "execution_count": null,
   "id": "927fe80f",
   "metadata": {},
   "outputs": [],
   "source": []
  }
 ],
 "metadata": {
  "kernelspec": {
   "display_name": "Python 3 (ipykernel)",
   "language": "python",
   "name": "python3"
  },
  "language_info": {
   "codemirror_mode": {
    "name": "ipython",
    "version": 3
   },
   "file_extension": ".py",
   "mimetype": "text/x-python",
   "name": "python",
   "nbconvert_exporter": "python",
   "pygments_lexer": "ipython3",
   "version": "3.13.7"
  }
 },
 "nbformat": 4,
 "nbformat_minor": 5
}
