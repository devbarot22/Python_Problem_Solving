{
 "cells": [
  {
   "cell_type": "code",
   "execution_count": 1,
   "id": "4ae336ff",
   "metadata": {},
   "outputs": [
    {
     "name": "stdout",
     "output_type": "stream",
     "text": [
      "Hello World\n"
     ]
    }
   ],
   "source": [
    "print(\"Hello World\")"
   ]
  },
  {
   "cell_type": "code",
   "execution_count": 2,
   "id": "522b2a0e",
   "metadata": {},
   "outputs": [
    {
     "name": "stdout",
     "output_type": "stream",
     "text": [
      "<class 'str'>\n"
     ]
    }
   ],
   "source": [
    "print(type(\"hello world\"))"
   ]
  },
  {
   "cell_type": "code",
   "execution_count": 3,
   "id": "a4844357",
   "metadata": {},
   "outputs": [],
   "source": [
    "a = [1, 2, 3]"
   ]
  },
  {
   "cell_type": "code",
   "execution_count": 4,
   "id": "7fdb7930",
   "metadata": {},
   "outputs": [
    {
     "name": "stdout",
     "output_type": "stream",
     "text": [
      "[1, 2, 3]\n"
     ]
    }
   ],
   "source": [
    "print(a)"
   ]
  },
  {
   "cell_type": "code",
   "execution_count": null,
   "id": "8819053b",
   "metadata": {},
   "outputs": [],
   "source": [
    "#append - Insert element at end of the array - on Average: O(1)\n",
    "a.append(\"Hello\")"
   ]
  },
  {
   "cell_type": "code",
   "execution_count": 7,
   "id": "8ccd1f86",
   "metadata": {},
   "outputs": [
    {
     "name": "stdout",
     "output_type": "stream",
     "text": [
      "[1, 2, 3, 'Hello']\n"
     ]
    }
   ],
   "source": [
    "print(a)"
   ]
  },
  {
   "cell_type": "code",
   "execution_count": 8,
   "id": "34fc32c7",
   "metadata": {},
   "outputs": [
    {
     "name": "stdout",
     "output_type": "stream",
     "text": [
      "[1, 2, 3]\n"
     ]
    }
   ],
   "source": [
    "#popping - Deleting element from end of the array - O(1)\n",
    "a.pop()\n",
    "print(a)"
   ]
  },
  {
   "cell_type": "code",
   "execution_count": null,
   "id": "e36d8da2",
   "metadata": {},
   "outputs": [
    {
     "name": "stdout",
     "output_type": "stream",
     "text": [
      "[1, 'Hii', 2, 3]\n"
     ]
    }
   ],
   "source": [
    "#Insert (not at the end of array) - O(n)\n",
    "a.insert(1, 'Hii')\n",
    "print(a)"
   ]
  },
  {
   "cell_type": "code",
   "execution_count": 10,
   "id": "610df18c",
   "metadata": {},
   "outputs": [
    {
     "name": "stdout",
     "output_type": "stream",
     "text": [
      "[1, 'Hii', 2, 'Hello', 3]\n"
     ]
    }
   ],
   "source": [
    "a.insert(3, 'Hello')\n",
    "print(a)"
   ]
  },
  {
   "cell_type": "code",
   "execution_count": 11,
   "id": "ed62a837",
   "metadata": {},
   "outputs": [
    {
     "name": "stdout",
     "output_type": "stream",
     "text": [
      "[1, 'Hii', 2, 'Hello', 3]\n"
     ]
    }
   ],
   "source": [
    "print(a)"
   ]
  },
  {
   "cell_type": "code",
   "execution_count": 13,
   "id": "0cbd8230",
   "metadata": {},
   "outputs": [
    {
     "name": "stdout",
     "output_type": "stream",
     "text": [
      "1\n"
     ]
    }
   ],
   "source": [
    "#counting the occurence of an element in an array\n",
    "print(a.count(1))"
   ]
  },
  {
   "cell_type": "code",
   "execution_count": 14,
   "id": "36709398",
   "metadata": {},
   "outputs": [
    {
     "name": "stdout",
     "output_type": "stream",
     "text": [
      "[1, 24, 2, 'Hello', 3]\n"
     ]
    }
   ],
   "source": [
    "#modifying the array - O(1)\n",
    "a[1] = 24\n",
    "print(a)"
   ]
  },
  {
   "cell_type": "code",
   "execution_count": 23,
   "id": "cae5f0fa",
   "metadata": {},
   "outputs": [
    {
     "name": "stdout",
     "output_type": "stream",
     "text": [
      "True\n"
     ]
    }
   ],
   "source": [
    "#Checking the value existence in an array - O(n)\n",
    "if 24 in a:\n",
    "  print(True)\n",
    "else:\n",
    "  print(\"chal hat nhi hai yaha!\")"
   ]
  },
  {
   "cell_type": "code",
   "execution_count": 24,
   "id": "fa8b0bcc",
   "metadata": {},
   "outputs": [],
   "source": [
    "#String"
   ]
  },
  {
   "cell_type": "code",
   "execution_count": null,
   "id": "7f2d67d2",
   "metadata": {},
   "outputs": [
    {
     "name": "stdout",
     "output_type": "stream",
     "text": [
      "hello there I am Here\n"
     ]
    }
   ],
   "source": [
    "#Append to end in string - O(n)\n",
    "h = \"hello there\"\n",
    "h1 = h + \" I am Here\"\n",
    "print(h1)"
   ]
  },
  {
   "cell_type": "code",
   "execution_count": 43,
   "id": "136b2952",
   "metadata": {},
   "outputs": [
    {
     "name": "stdout",
     "output_type": "stream",
     "text": [
      "True 4\n"
     ]
    },
    {
     "data": {
      "text/plain": [
       "6"
      ]
     },
     "execution_count": 43,
     "metadata": {},
     "output_type": "execute_result"
    }
   ],
   "source": [
    "#Check the sub-string existence in a string - O(n)\n",
    "\n",
    "Sub_String = \"o\"\n",
    "if Sub_String in h:\n",
    "  print(True, h.index(Sub_String))\n",
    "else:\n",
    "  print(\"chal...chal...chal\")\n",
    "\n",
    "\n",
    "#2nd Method\n",
    "\n",
    "h.find('t')"
   ]
  },
  {
   "cell_type": "code",
   "execution_count": null,
   "id": "91050ef3",
   "metadata": {},
   "outputs": [
    {
     "data": {
      "text/plain": [
       "5"
      ]
     },
     "execution_count": 52,
     "metadata": {},
     "output_type": "execute_result"
    }
   ],
   "source": [
    "#Find the length of the array and string - both will be O(1)\n",
    "\n",
    "len(a)\n",
    "len(h)"
   ]
  }
 ],
 "metadata": {
  "kernelspec": {
   "display_name": "Python 3 (ipykernel)",
   "language": "python",
   "name": "python3"
  },
  "language_info": {
   "codemirror_mode": {
    "name": "ipython",
    "version": 3
   },
   "file_extension": ".py",
   "mimetype": "text/x-python",
   "name": "python",
   "nbconvert_exporter": "python",
   "pygments_lexer": "ipython3",
   "version": "3.13.5"
  }
 },
 "nbformat": 4,
 "nbformat_minor": 5
}
